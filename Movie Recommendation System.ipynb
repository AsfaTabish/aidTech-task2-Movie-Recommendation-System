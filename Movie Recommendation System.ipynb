{
 "cells": [
  {
   "cell_type": "code",
   "execution_count": 1,
   "id": "51bd2256",
   "metadata": {},
   "outputs": [],
   "source": [
    "import pandas as pd"
   ]
  },
  {
   "cell_type": "code",
   "execution_count": 2,
   "id": "057fefdb",
   "metadata": {},
   "outputs": [],
   "source": [
    "movies = pd.read_csv(\"movies.csv\")"
   ]
  },
  {
   "cell_type": "code",
   "execution_count": 4,
   "id": "ed8b25c5",
   "metadata": {},
   "outputs": [
    {
     "data": {
      "text/html": [
       "<div>\n",
       "<style scoped>\n",
       "    .dataframe tbody tr th:only-of-type {\n",
       "        vertical-align: middle;\n",
       "    }\n",
       "\n",
       "    .dataframe tbody tr th {\n",
       "        vertical-align: top;\n",
       "    }\n",
       "\n",
       "    .dataframe thead th {\n",
       "        text-align: right;\n",
       "    }\n",
       "</style>\n",
       "<table border=\"1\" class=\"dataframe\">\n",
       "  <thead>\n",
       "    <tr style=\"text-align: right;\">\n",
       "      <th></th>\n",
       "      <th>movieId</th>\n",
       "      <th>title</th>\n",
       "      <th>genres</th>\n",
       "    </tr>\n",
       "  </thead>\n",
       "  <tbody>\n",
       "    <tr>\n",
       "      <th>0</th>\n",
       "      <td>1</td>\n",
       "      <td>Toy Story (1995)</td>\n",
       "      <td>Adventure|Animation|Children|Comedy|Fantasy</td>\n",
       "    </tr>\n",
       "    <tr>\n",
       "      <th>1</th>\n",
       "      <td>2</td>\n",
       "      <td>Jumanji (1995)</td>\n",
       "      <td>Adventure|Children|Fantasy</td>\n",
       "    </tr>\n",
       "    <tr>\n",
       "      <th>2</th>\n",
       "      <td>3</td>\n",
       "      <td>Grumpier Old Men (1995)</td>\n",
       "      <td>Comedy|Romance</td>\n",
       "    </tr>\n",
       "    <tr>\n",
       "      <th>3</th>\n",
       "      <td>4</td>\n",
       "      <td>Waiting to Exhale (1995)</td>\n",
       "      <td>Comedy|Drama|Romance</td>\n",
       "    </tr>\n",
       "    <tr>\n",
       "      <th>4</th>\n",
       "      <td>5</td>\n",
       "      <td>Father of the Bride Part II (1995)</td>\n",
       "      <td>Comedy</td>\n",
       "    </tr>\n",
       "    <tr>\n",
       "      <th>5</th>\n",
       "      <td>6</td>\n",
       "      <td>Heat (1995)</td>\n",
       "      <td>Action|Crime|Thriller</td>\n",
       "    </tr>\n",
       "    <tr>\n",
       "      <th>6</th>\n",
       "      <td>7</td>\n",
       "      <td>Sabrina (1995)</td>\n",
       "      <td>Comedy|Romance</td>\n",
       "    </tr>\n",
       "    <tr>\n",
       "      <th>7</th>\n",
       "      <td>8</td>\n",
       "      <td>Tom and Huck (1995)</td>\n",
       "      <td>Adventure|Children</td>\n",
       "    </tr>\n",
       "    <tr>\n",
       "      <th>8</th>\n",
       "      <td>9</td>\n",
       "      <td>Sudden Death (1995)</td>\n",
       "      <td>Action</td>\n",
       "    </tr>\n",
       "    <tr>\n",
       "      <th>9</th>\n",
       "      <td>10</td>\n",
       "      <td>GoldenEye (1995)</td>\n",
       "      <td>Action|Adventure|Thriller</td>\n",
       "    </tr>\n",
       "  </tbody>\n",
       "</table>\n",
       "</div>"
      ],
      "text/plain": [
       "   movieId                               title  \\\n",
       "0        1                    Toy Story (1995)   \n",
       "1        2                      Jumanji (1995)   \n",
       "2        3             Grumpier Old Men (1995)   \n",
       "3        4            Waiting to Exhale (1995)   \n",
       "4        5  Father of the Bride Part II (1995)   \n",
       "5        6                         Heat (1995)   \n",
       "6        7                      Sabrina (1995)   \n",
       "7        8                 Tom and Huck (1995)   \n",
       "8        9                 Sudden Death (1995)   \n",
       "9       10                    GoldenEye (1995)   \n",
       "\n",
       "                                        genres  \n",
       "0  Adventure|Animation|Children|Comedy|Fantasy  \n",
       "1                   Adventure|Children|Fantasy  \n",
       "2                               Comedy|Romance  \n",
       "3                         Comedy|Drama|Romance  \n",
       "4                                       Comedy  \n",
       "5                        Action|Crime|Thriller  \n",
       "6                               Comedy|Romance  \n",
       "7                           Adventure|Children  \n",
       "8                                       Action  \n",
       "9                    Action|Adventure|Thriller  "
      ]
     },
     "execution_count": 4,
     "metadata": {},
     "output_type": "execute_result"
    }
   ],
   "source": [
    "movies.head(10)\n"
   ]
  },
  {
   "cell_type": "code",
   "execution_count": 5,
   "id": "9a0da0a3",
   "metadata": {},
   "outputs": [
    {
     "data": {
      "text/plain": [
       "(10329, 3)"
      ]
     },
     "execution_count": 5,
     "metadata": {},
     "output_type": "execute_result"
    }
   ],
   "source": [
    "movies.shape"
   ]
  },
  {
   "cell_type": "code",
   "execution_count": 6,
   "id": "62b38777",
   "metadata": {},
   "outputs": [
    {
     "data": {
      "text/plain": [
       "Index(['movieId', 'title', 'genres'], dtype='object')"
      ]
     },
     "execution_count": 6,
     "metadata": {},
     "output_type": "execute_result"
    }
   ],
   "source": [
    "movies.columns"
   ]
  },
  {
   "cell_type": "code",
   "execution_count": 7,
   "id": "c8435f39",
   "metadata": {},
   "outputs": [
    {
     "data": {
      "text/plain": [
       "movieId    0\n",
       "title      0\n",
       "genres     0\n",
       "dtype: int64"
      ]
     },
     "execution_count": 7,
     "metadata": {},
     "output_type": "execute_result"
    }
   ],
   "source": [
    "movies.isnull().sum()"
   ]
  },
  {
   "cell_type": "code",
   "execution_count": 8,
   "id": "ecf46ff8",
   "metadata": {},
   "outputs": [
    {
     "data": {
      "text/plain": [
       "0"
      ]
     },
     "execution_count": 8,
     "metadata": {},
     "output_type": "execute_result"
    }
   ],
   "source": [
    "movies.duplicated().sum()"
   ]
  },
  {
   "cell_type": "code",
   "execution_count": 9,
   "id": "9e49f5eb",
   "metadata": {},
   "outputs": [
    {
     "data": {
      "text/plain": [
       "'Adventure|Animation|Children|Comedy|Fantasy'"
      ]
     },
     "execution_count": 9,
     "metadata": {},
     "output_type": "execute_result"
    }
   ],
   "source": [
    "movies.iloc[0]['genres']"
   ]
  },
  {
   "cell_type": "code",
   "execution_count": 10,
   "id": "4746e7b1",
   "metadata": {},
   "outputs": [],
   "source": [
    "import re\n",
    "\n",
    "def clean_title(title):\n",
    "    title = re.sub(\"[^a-zA-Z0-9 ]\", \"\", title)\n",
    "    return title"
   ]
  },
  {
   "cell_type": "code",
   "execution_count": 11,
   "id": "f862339f",
   "metadata": {},
   "outputs": [],
   "source": [
    "movies[\"clean_title\"] = movies[\"title\"].apply(clean_title)"
   ]
  },
  {
   "cell_type": "code",
   "execution_count": 12,
   "id": "5f3a0063",
   "metadata": {},
   "outputs": [
    {
     "data": {
      "text/html": [
       "<div>\n",
       "<style scoped>\n",
       "    .dataframe tbody tr th:only-of-type {\n",
       "        vertical-align: middle;\n",
       "    }\n",
       "\n",
       "    .dataframe tbody tr th {\n",
       "        vertical-align: top;\n",
       "    }\n",
       "\n",
       "    .dataframe thead th {\n",
       "        text-align: right;\n",
       "    }\n",
       "</style>\n",
       "<table border=\"1\" class=\"dataframe\">\n",
       "  <thead>\n",
       "    <tr style=\"text-align: right;\">\n",
       "      <th></th>\n",
       "      <th>movieId</th>\n",
       "      <th>title</th>\n",
       "      <th>genres</th>\n",
       "      <th>clean_title</th>\n",
       "    </tr>\n",
       "  </thead>\n",
       "  <tbody>\n",
       "    <tr>\n",
       "      <th>0</th>\n",
       "      <td>1</td>\n",
       "      <td>Toy Story (1995)</td>\n",
       "      <td>Adventure|Animation|Children|Comedy|Fantasy</td>\n",
       "      <td>Toy Story 1995</td>\n",
       "    </tr>\n",
       "    <tr>\n",
       "      <th>1</th>\n",
       "      <td>2</td>\n",
       "      <td>Jumanji (1995)</td>\n",
       "      <td>Adventure|Children|Fantasy</td>\n",
       "      <td>Jumanji 1995</td>\n",
       "    </tr>\n",
       "    <tr>\n",
       "      <th>2</th>\n",
       "      <td>3</td>\n",
       "      <td>Grumpier Old Men (1995)</td>\n",
       "      <td>Comedy|Romance</td>\n",
       "      <td>Grumpier Old Men 1995</td>\n",
       "    </tr>\n",
       "    <tr>\n",
       "      <th>3</th>\n",
       "      <td>4</td>\n",
       "      <td>Waiting to Exhale (1995)</td>\n",
       "      <td>Comedy|Drama|Romance</td>\n",
       "      <td>Waiting to Exhale 1995</td>\n",
       "    </tr>\n",
       "    <tr>\n",
       "      <th>4</th>\n",
       "      <td>5</td>\n",
       "      <td>Father of the Bride Part II (1995)</td>\n",
       "      <td>Comedy</td>\n",
       "      <td>Father of the Bride Part II 1995</td>\n",
       "    </tr>\n",
       "    <tr>\n",
       "      <th>...</th>\n",
       "      <td>...</td>\n",
       "      <td>...</td>\n",
       "      <td>...</td>\n",
       "      <td>...</td>\n",
       "    </tr>\n",
       "    <tr>\n",
       "      <th>10324</th>\n",
       "      <td>146684</td>\n",
       "      <td>Cosmic Scrat-tastrophe (2015)</td>\n",
       "      <td>Animation|Children|Comedy</td>\n",
       "      <td>Cosmic Scrattastrophe 2015</td>\n",
       "    </tr>\n",
       "    <tr>\n",
       "      <th>10325</th>\n",
       "      <td>146878</td>\n",
       "      <td>Le Grand Restaurant (1966)</td>\n",
       "      <td>Comedy</td>\n",
       "      <td>Le Grand Restaurant 1966</td>\n",
       "    </tr>\n",
       "    <tr>\n",
       "      <th>10326</th>\n",
       "      <td>148238</td>\n",
       "      <td>A Very Murray Christmas (2015)</td>\n",
       "      <td>Comedy</td>\n",
       "      <td>A Very Murray Christmas 2015</td>\n",
       "    </tr>\n",
       "    <tr>\n",
       "      <th>10327</th>\n",
       "      <td>148626</td>\n",
       "      <td>The Big Short (2015)</td>\n",
       "      <td>Drama</td>\n",
       "      <td>The Big Short 2015</td>\n",
       "    </tr>\n",
       "    <tr>\n",
       "      <th>10328</th>\n",
       "      <td>149532</td>\n",
       "      <td>Marco Polo: One Hundred Eyes (2015)</td>\n",
       "      <td>(no genres listed)</td>\n",
       "      <td>Marco Polo One Hundred Eyes 2015</td>\n",
       "    </tr>\n",
       "  </tbody>\n",
       "</table>\n",
       "<p>10329 rows × 4 columns</p>\n",
       "</div>"
      ],
      "text/plain": [
       "       movieId                                title  \\\n",
       "0            1                     Toy Story (1995)   \n",
       "1            2                       Jumanji (1995)   \n",
       "2            3              Grumpier Old Men (1995)   \n",
       "3            4             Waiting to Exhale (1995)   \n",
       "4            5   Father of the Bride Part II (1995)   \n",
       "...        ...                                  ...   \n",
       "10324   146684        Cosmic Scrat-tastrophe (2015)   \n",
       "10325   146878           Le Grand Restaurant (1966)   \n",
       "10326   148238       A Very Murray Christmas (2015)   \n",
       "10327   148626                 The Big Short (2015)   \n",
       "10328   149532  Marco Polo: One Hundred Eyes (2015)   \n",
       "\n",
       "                                            genres  \\\n",
       "0      Adventure|Animation|Children|Comedy|Fantasy   \n",
       "1                       Adventure|Children|Fantasy   \n",
       "2                                   Comedy|Romance   \n",
       "3                             Comedy|Drama|Romance   \n",
       "4                                           Comedy   \n",
       "...                                            ...   \n",
       "10324                    Animation|Children|Comedy   \n",
       "10325                                       Comedy   \n",
       "10326                                       Comedy   \n",
       "10327                                        Drama   \n",
       "10328                           (no genres listed)   \n",
       "\n",
       "                            clean_title  \n",
       "0                        Toy Story 1995  \n",
       "1                          Jumanji 1995  \n",
       "2                 Grumpier Old Men 1995  \n",
       "3                Waiting to Exhale 1995  \n",
       "4      Father of the Bride Part II 1995  \n",
       "...                                 ...  \n",
       "10324        Cosmic Scrattastrophe 2015  \n",
       "10325          Le Grand Restaurant 1966  \n",
       "10326      A Very Murray Christmas 2015  \n",
       "10327                The Big Short 2015  \n",
       "10328  Marco Polo One Hundred Eyes 2015  \n",
       "\n",
       "[10329 rows x 4 columns]"
      ]
     },
     "execution_count": 12,
     "metadata": {},
     "output_type": "execute_result"
    }
   ],
   "source": [
    "movies"
   ]
  },
  {
   "cell_type": "code",
   "execution_count": 13,
   "id": "a6d69906",
   "metadata": {},
   "outputs": [],
   "source": [
    "from sklearn.feature_extraction.text import TfidfVectorizer\n",
    "vectorizer = TfidfVectorizer(ngram_range=(1,2))\n",
    "\n",
    "tfidf = vectorizer.fit_transform(movies[\"clean_title\"])"
   ]
  },
  {
   "cell_type": "code",
   "execution_count": 14,
   "id": "949eb5f5",
   "metadata": {},
   "outputs": [],
   "source": [
    "from sklearn.metrics.pairwise import cosine_similarity\n",
    "import numpy as np\n",
    "\n",
    "def search(title):\n",
    "    title = clean_title(title)\n",
    "    query_vec = vectorizer.transform([title])\n",
    "    similarity = cosine_similarity(query_vec, tfidf).flatten()\n",
    "    indices = np.argpartition(similarity, -5)[-5:]\n",
    "    results = movies.iloc[indices].iloc[::-1]\n",
    "    \n",
    "    return results"
   ]
  },
  {
   "cell_type": "code",
   "execution_count": 15,
   "id": "7ef12ca3",
   "metadata": {},
   "outputs": [],
   "source": [
    "# pip install ipywidgets\n",
    "#jupyter labextension install @jupyter-widgets/jupyterlab-manager"
   ]
  },
  {
   "cell_type": "code",
   "execution_count": 16,
   "id": "dd4abb1d",
   "metadata": {},
   "outputs": [
    {
     "data": {
      "application/vnd.jupyter.widget-view+json": {
       "model_id": "12b59c60b01f4d7ca6e4250f83f5d755",
       "version_major": 2,
       "version_minor": 0
      },
      "text/plain": [
       "Text(value='Toy Story', description='Movie Title:')"
      ]
     },
     "metadata": {},
     "output_type": "display_data"
    },
    {
     "data": {
      "application/vnd.jupyter.widget-view+json": {
       "model_id": "3919be5e70fa48bcb9b0e2ebe71a217f",
       "version_major": 2,
       "version_minor": 0
      },
      "text/plain": [
       "Output()"
      ]
     },
     "metadata": {},
     "output_type": "display_data"
    }
   ],
   "source": [
    "import ipywidgets as widgets\n",
    "from IPython.display import display\n",
    "\n",
    "movie_input = widgets.Text(\n",
    "    value='Toy Story',\n",
    "    description='Movie Title:',\n",
    "    disabled=False\n",
    ")\n",
    "movie_list = widgets.Output()\n",
    "\n",
    "def on_type(data):\n",
    "    with movie_list:\n",
    "        movie_list.clear_output()\n",
    "        title = data[\"new\"]\n",
    "        if len(title) > 5:\n",
    "            display(search(title))\n",
    "\n",
    "movie_input.observe(on_type, names='value')\n",
    "\n",
    "\n",
    "display(movie_input, movie_list)"
   ]
  },
  {
   "cell_type": "code",
   "execution_count": 17,
   "id": "efe5b5f1",
   "metadata": {},
   "outputs": [],
   "source": [
    "movie_id = 89745\n",
    "\n",
    "#def find_similar_movies(movie_id):\n",
    "movie = movies[movies[\"movieId\"] == movie_id]"
   ]
  },
  {
   "cell_type": "code",
   "execution_count": 18,
   "id": "25d02b5e",
   "metadata": {},
   "outputs": [
    {
     "data": {
      "text/html": [
       "<div>\n",
       "<style scoped>\n",
       "    .dataframe tbody tr th:only-of-type {\n",
       "        vertical-align: middle;\n",
       "    }\n",
       "\n",
       "    .dataframe tbody tr th {\n",
       "        vertical-align: top;\n",
       "    }\n",
       "\n",
       "    .dataframe thead th {\n",
       "        text-align: right;\n",
       "    }\n",
       "</style>\n",
       "<table border=\"1\" class=\"dataframe\">\n",
       "  <thead>\n",
       "    <tr style=\"text-align: right;\">\n",
       "      <th></th>\n",
       "      <th>userId</th>\n",
       "      <th>movieId</th>\n",
       "      <th>rating</th>\n",
       "      <th>timestamp</th>\n",
       "    </tr>\n",
       "  </thead>\n",
       "  <tbody>\n",
       "    <tr>\n",
       "      <th>0</th>\n",
       "      <td>1</td>\n",
       "      <td>296</td>\n",
       "      <td>5.0</td>\n",
       "      <td>1147880044</td>\n",
       "    </tr>\n",
       "    <tr>\n",
       "      <th>1</th>\n",
       "      <td>1</td>\n",
       "      <td>306</td>\n",
       "      <td>3.5</td>\n",
       "      <td>1147868817</td>\n",
       "    </tr>\n",
       "    <tr>\n",
       "      <th>2</th>\n",
       "      <td>1</td>\n",
       "      <td>307</td>\n",
       "      <td>5.0</td>\n",
       "      <td>1147868828</td>\n",
       "    </tr>\n",
       "    <tr>\n",
       "      <th>3</th>\n",
       "      <td>1</td>\n",
       "      <td>665</td>\n",
       "      <td>5.0</td>\n",
       "      <td>1147878820</td>\n",
       "    </tr>\n",
       "    <tr>\n",
       "      <th>4</th>\n",
       "      <td>1</td>\n",
       "      <td>899</td>\n",
       "      <td>3.5</td>\n",
       "      <td>1147868510</td>\n",
       "    </tr>\n",
       "    <tr>\n",
       "      <th>5</th>\n",
       "      <td>1</td>\n",
       "      <td>1088</td>\n",
       "      <td>4.0</td>\n",
       "      <td>1147868495</td>\n",
       "    </tr>\n",
       "    <tr>\n",
       "      <th>6</th>\n",
       "      <td>1</td>\n",
       "      <td>1175</td>\n",
       "      <td>3.5</td>\n",
       "      <td>1147868826</td>\n",
       "    </tr>\n",
       "    <tr>\n",
       "      <th>7</th>\n",
       "      <td>1</td>\n",
       "      <td>1217</td>\n",
       "      <td>3.5</td>\n",
       "      <td>1147878326</td>\n",
       "    </tr>\n",
       "    <tr>\n",
       "      <th>8</th>\n",
       "      <td>1</td>\n",
       "      <td>1237</td>\n",
       "      <td>5.0</td>\n",
       "      <td>1147868839</td>\n",
       "    </tr>\n",
       "    <tr>\n",
       "      <th>9</th>\n",
       "      <td>1</td>\n",
       "      <td>1250</td>\n",
       "      <td>4.0</td>\n",
       "      <td>1147868414</td>\n",
       "    </tr>\n",
       "  </tbody>\n",
       "</table>\n",
       "</div>"
      ],
      "text/plain": [
       "   userId  movieId  rating   timestamp\n",
       "0       1      296     5.0  1147880044\n",
       "1       1      306     3.5  1147868817\n",
       "2       1      307     5.0  1147868828\n",
       "3       1      665     5.0  1147878820\n",
       "4       1      899     3.5  1147868510\n",
       "5       1     1088     4.0  1147868495\n",
       "6       1     1175     3.5  1147868826\n",
       "7       1     1217     3.5  1147878326\n",
       "8       1     1237     5.0  1147868839\n",
       "9       1     1250     4.0  1147868414"
      ]
     },
     "execution_count": 18,
     "metadata": {},
     "output_type": "execute_result"
    }
   ],
   "source": [
    "ratings = pd.read_csv(\"ratings.csv\")\n",
    "ratings.head(10)"
   ]
  },
  {
   "cell_type": "code",
   "execution_count": 19,
   "id": "cfb1c95c",
   "metadata": {},
   "outputs": [
    {
     "data": {
      "text/plain": [
       "userId         int64\n",
       "movieId        int64\n",
       "rating       float64\n",
       "timestamp      int64\n",
       "dtype: object"
      ]
     },
     "execution_count": 19,
     "metadata": {},
     "output_type": "execute_result"
    }
   ],
   "source": [
    "ratings.dtypes"
   ]
  },
  {
   "cell_type": "code",
   "execution_count": 20,
   "id": "e3b9c1ff",
   "metadata": {},
   "outputs": [],
   "source": [
    "similar_users = ratings[(ratings[\"movieId\"] == movie_id) & (ratings[\"rating\"] > 4)][\"userId\"].unique()"
   ]
  },
  {
   "cell_type": "code",
   "execution_count": 21,
   "id": "7286784a",
   "metadata": {},
   "outputs": [
    {
     "data": {
      "text/plain": [
       "array([    21,    187,    208, ..., 162469, 162485, 162532], dtype=int64)"
      ]
     },
     "execution_count": 21,
     "metadata": {},
     "output_type": "execute_result"
    }
   ],
   "source": [
    "similar_users"
   ]
  },
  {
   "cell_type": "code",
   "execution_count": 22,
   "id": "221576bc",
   "metadata": {},
   "outputs": [],
   "source": [
    "similar_user_recs = ratings[(ratings[\"userId\"].isin(similar_users)) & (ratings[\"rating\"] > 4)][\"movieId\"]"
   ]
  },
  {
   "cell_type": "code",
   "execution_count": 23,
   "id": "c02eaca1",
   "metadata": {},
   "outputs": [
    {
     "data": {
      "text/plain": [
       "3741           318\n",
       "3742           527\n",
       "3743           541\n",
       "3744           589\n",
       "3745           741\n",
       "             ...  \n",
       "24998517     91542\n",
       "24998518     92259\n",
       "24998522     98809\n",
       "24998523    102125\n",
       "24998524    112852\n",
       "Name: movieId, Length: 577796, dtype: int64"
      ]
     },
     "execution_count": 23,
     "metadata": {},
     "output_type": "execute_result"
    }
   ],
   "source": [
    "similar_user_recs"
   ]
  },
  {
   "cell_type": "code",
   "execution_count": 24,
   "id": "7503600e",
   "metadata": {},
   "outputs": [],
   "source": [
    "similar_user_recs = similar_user_recs.value_counts() / len(similar_users)\n",
    "\n",
    "similar_user_recs = similar_user_recs[similar_user_recs > .10]"
   ]
  },
  {
   "cell_type": "code",
   "execution_count": 25,
   "id": "81f8a69c",
   "metadata": {},
   "outputs": [
    {
     "data": {
      "text/plain": [
       "89745    1.000000\n",
       "58559    0.573393\n",
       "59315    0.530649\n",
       "79132    0.519715\n",
       "2571     0.496687\n",
       "           ...   \n",
       "47610    0.103545\n",
       "780      0.103380\n",
       "88744    0.103048\n",
       "1258     0.101226\n",
       "1193     0.100895\n",
       "Name: movieId, Length: 193, dtype: float64"
      ]
     },
     "execution_count": 25,
     "metadata": {},
     "output_type": "execute_result"
    }
   ],
   "source": [
    "similar_user_recs"
   ]
  },
  {
   "cell_type": "code",
   "execution_count": 26,
   "id": "b54587a5",
   "metadata": {},
   "outputs": [],
   "source": [
    "all_users = ratings[(ratings[\"movieId\"].isin(similar_user_recs.index)) & (ratings[\"rating\"] > 4)]"
   ]
  },
  {
   "cell_type": "code",
   "execution_count": 27,
   "id": "e3191de4",
   "metadata": {},
   "outputs": [],
   "source": [
    "all_user_recs = all_users[\"movieId\"].value_counts() / len(all_users[\"userId\"].unique())"
   ]
  },
  {
   "cell_type": "code",
   "execution_count": 28,
   "id": "573126b1",
   "metadata": {},
   "outputs": [
    {
     "data": {
      "text/plain": [
       "318       0.346395\n",
       "296       0.288146\n",
       "2571      0.247010\n",
       "356       0.238136\n",
       "593       0.228665\n",
       "            ...   \n",
       "86332     0.010142\n",
       "91630     0.009324\n",
       "122900    0.008573\n",
       "122926    0.008070\n",
       "106072    0.005289\n",
       "Name: movieId, Length: 193, dtype: float64"
      ]
     },
     "execution_count": 28,
     "metadata": {},
     "output_type": "execute_result"
    }
   ],
   "source": [
    "all_user_recs"
   ]
  },
  {
   "cell_type": "code",
   "execution_count": 29,
   "id": "f90dbd99",
   "metadata": {},
   "outputs": [],
   "source": [
    "rec_percentages = pd.concat([similar_user_recs, all_user_recs], axis=1)\n",
    "rec_percentages.columns = [\"similar\", \"all\"]"
   ]
  },
  {
   "cell_type": "code",
   "execution_count": 30,
   "id": "5f9f45f4",
   "metadata": {},
   "outputs": [
    {
     "data": {
      "text/html": [
       "<div>\n",
       "<style scoped>\n",
       "    .dataframe tbody tr th:only-of-type {\n",
       "        vertical-align: middle;\n",
       "    }\n",
       "\n",
       "    .dataframe tbody tr th {\n",
       "        vertical-align: top;\n",
       "    }\n",
       "\n",
       "    .dataframe thead th {\n",
       "        text-align: right;\n",
       "    }\n",
       "</style>\n",
       "<table border=\"1\" class=\"dataframe\">\n",
       "  <thead>\n",
       "    <tr style=\"text-align: right;\">\n",
       "      <th></th>\n",
       "      <th>similar</th>\n",
       "      <th>all</th>\n",
       "    </tr>\n",
       "  </thead>\n",
       "  <tbody>\n",
       "    <tr>\n",
       "      <th>89745</th>\n",
       "      <td>1.000000</td>\n",
       "      <td>0.040459</td>\n",
       "    </tr>\n",
       "    <tr>\n",
       "      <th>58559</th>\n",
       "      <td>0.573393</td>\n",
       "      <td>0.148256</td>\n",
       "    </tr>\n",
       "    <tr>\n",
       "      <th>59315</th>\n",
       "      <td>0.530649</td>\n",
       "      <td>0.054931</td>\n",
       "    </tr>\n",
       "    <tr>\n",
       "      <th>79132</th>\n",
       "      <td>0.519715</td>\n",
       "      <td>0.132987</td>\n",
       "    </tr>\n",
       "    <tr>\n",
       "      <th>2571</th>\n",
       "      <td>0.496687</td>\n",
       "      <td>0.247010</td>\n",
       "    </tr>\n",
       "    <tr>\n",
       "      <th>...</th>\n",
       "      <td>...</td>\n",
       "      <td>...</td>\n",
       "    </tr>\n",
       "    <tr>\n",
       "      <th>47610</th>\n",
       "      <td>0.103545</td>\n",
       "      <td>0.022770</td>\n",
       "    </tr>\n",
       "    <tr>\n",
       "      <th>780</th>\n",
       "      <td>0.103380</td>\n",
       "      <td>0.054723</td>\n",
       "    </tr>\n",
       "    <tr>\n",
       "      <th>88744</th>\n",
       "      <td>0.103048</td>\n",
       "      <td>0.010383</td>\n",
       "    </tr>\n",
       "    <tr>\n",
       "      <th>1258</th>\n",
       "      <td>0.101226</td>\n",
       "      <td>0.083887</td>\n",
       "    </tr>\n",
       "    <tr>\n",
       "      <th>1193</th>\n",
       "      <td>0.100895</td>\n",
       "      <td>0.120244</td>\n",
       "    </tr>\n",
       "  </tbody>\n",
       "</table>\n",
       "<p>193 rows × 2 columns</p>\n",
       "</div>"
      ],
      "text/plain": [
       "        similar       all\n",
       "89745  1.000000  0.040459\n",
       "58559  0.573393  0.148256\n",
       "59315  0.530649  0.054931\n",
       "79132  0.519715  0.132987\n",
       "2571   0.496687  0.247010\n",
       "...         ...       ...\n",
       "47610  0.103545  0.022770\n",
       "780    0.103380  0.054723\n",
       "88744  0.103048  0.010383\n",
       "1258   0.101226  0.083887\n",
       "1193   0.100895  0.120244\n",
       "\n",
       "[193 rows x 2 columns]"
      ]
     },
     "execution_count": 30,
     "metadata": {},
     "output_type": "execute_result"
    }
   ],
   "source": [
    "rec_percentages"
   ]
  },
  {
   "cell_type": "code",
   "execution_count": 31,
   "id": "13753fa9",
   "metadata": {},
   "outputs": [],
   "source": [
    "rec_percentages[\"score\"] = rec_percentages[\"similar\"] / rec_percentages[\"all\"]"
   ]
  },
  {
   "cell_type": "code",
   "execution_count": 32,
   "id": "70789de0",
   "metadata": {},
   "outputs": [],
   "source": [
    "rec_percentages = rec_percentages.sort_values(\"score\", ascending=False)"
   ]
  },
  {
   "cell_type": "code",
   "execution_count": 33,
   "id": "e0659e67",
   "metadata": {},
   "outputs": [
    {
     "data": {
      "text/html": [
       "<div>\n",
       "<style scoped>\n",
       "    .dataframe tbody tr th:only-of-type {\n",
       "        vertical-align: middle;\n",
       "    }\n",
       "\n",
       "    .dataframe tbody tr th {\n",
       "        vertical-align: top;\n",
       "    }\n",
       "\n",
       "    .dataframe thead th {\n",
       "        text-align: right;\n",
       "    }\n",
       "</style>\n",
       "<table border=\"1\" class=\"dataframe\">\n",
       "  <thead>\n",
       "    <tr style=\"text-align: right;\">\n",
       "      <th></th>\n",
       "      <th>similar</th>\n",
       "      <th>all</th>\n",
       "      <th>score</th>\n",
       "    </tr>\n",
       "  </thead>\n",
       "  <tbody>\n",
       "    <tr>\n",
       "      <th>89745</th>\n",
       "      <td>1.000000</td>\n",
       "      <td>0.040459</td>\n",
       "      <td>24.716368</td>\n",
       "    </tr>\n",
       "    <tr>\n",
       "      <th>106072</th>\n",
       "      <td>0.103711</td>\n",
       "      <td>0.005289</td>\n",
       "      <td>19.610199</td>\n",
       "    </tr>\n",
       "    <tr>\n",
       "      <th>122892</th>\n",
       "      <td>0.241054</td>\n",
       "      <td>0.012367</td>\n",
       "      <td>19.491770</td>\n",
       "    </tr>\n",
       "    <tr>\n",
       "      <th>102125</th>\n",
       "      <td>0.216534</td>\n",
       "      <td>0.012119</td>\n",
       "      <td>17.867419</td>\n",
       "    </tr>\n",
       "    <tr>\n",
       "      <th>88140</th>\n",
       "      <td>0.215043</td>\n",
       "      <td>0.012052</td>\n",
       "      <td>17.843074</td>\n",
       "    </tr>\n",
       "    <tr>\n",
       "      <th>...</th>\n",
       "      <td>...</td>\n",
       "      <td>...</td>\n",
       "      <td>...</td>\n",
       "    </tr>\n",
       "    <tr>\n",
       "      <th>296</th>\n",
       "      <td>0.288933</td>\n",
       "      <td>0.288146</td>\n",
       "      <td>1.002730</td>\n",
       "    </tr>\n",
       "    <tr>\n",
       "      <th>593</th>\n",
       "      <td>0.222830</td>\n",
       "      <td>0.228665</td>\n",
       "      <td>0.974483</td>\n",
       "    </tr>\n",
       "    <tr>\n",
       "      <th>527</th>\n",
       "      <td>0.199967</td>\n",
       "      <td>0.217833</td>\n",
       "      <td>0.917984</td>\n",
       "    </tr>\n",
       "    <tr>\n",
       "      <th>1193</th>\n",
       "      <td>0.100895</td>\n",
       "      <td>0.120244</td>\n",
       "      <td>0.839081</td>\n",
       "    </tr>\n",
       "    <tr>\n",
       "      <th>2858</th>\n",
       "      <td>0.139993</td>\n",
       "      <td>0.169679</td>\n",
       "      <td>0.825051</td>\n",
       "    </tr>\n",
       "  </tbody>\n",
       "</table>\n",
       "<p>193 rows × 3 columns</p>\n",
       "</div>"
      ],
      "text/plain": [
       "         similar       all      score\n",
       "89745   1.000000  0.040459  24.716368\n",
       "106072  0.103711  0.005289  19.610199\n",
       "122892  0.241054  0.012367  19.491770\n",
       "102125  0.216534  0.012119  17.867419\n",
       "88140   0.215043  0.012052  17.843074\n",
       "...          ...       ...        ...\n",
       "296     0.288933  0.288146   1.002730\n",
       "593     0.222830  0.228665   0.974483\n",
       "527     0.199967  0.217833   0.917984\n",
       "1193    0.100895  0.120244   0.839081\n",
       "2858    0.139993  0.169679   0.825051\n",
       "\n",
       "[193 rows x 3 columns]"
      ]
     },
     "execution_count": 33,
     "metadata": {},
     "output_type": "execute_result"
    }
   ],
   "source": [
    "rec_percentages"
   ]
  },
  {
   "cell_type": "code",
   "execution_count": 34,
   "id": "20536075",
   "metadata": {},
   "outputs": [
    {
     "data": {
      "text/html": [
       "<div>\n",
       "<style scoped>\n",
       "    .dataframe tbody tr th:only-of-type {\n",
       "        vertical-align: middle;\n",
       "    }\n",
       "\n",
       "    .dataframe tbody tr th {\n",
       "        vertical-align: top;\n",
       "    }\n",
       "\n",
       "    .dataframe thead th {\n",
       "        text-align: right;\n",
       "    }\n",
       "</style>\n",
       "<table border=\"1\" class=\"dataframe\">\n",
       "  <thead>\n",
       "    <tr style=\"text-align: right;\">\n",
       "      <th></th>\n",
       "      <th>similar</th>\n",
       "      <th>all</th>\n",
       "      <th>score</th>\n",
       "      <th>movieId</th>\n",
       "      <th>title</th>\n",
       "      <th>genres</th>\n",
       "      <th>clean_title</th>\n",
       "    </tr>\n",
       "  </thead>\n",
       "  <tbody>\n",
       "    <tr>\n",
       "      <th>9121</th>\n",
       "      <td>1.000000</td>\n",
       "      <td>0.040459</td>\n",
       "      <td>24.716368</td>\n",
       "      <td>89745</td>\n",
       "      <td>Avengers, The (2012)</td>\n",
       "      <td>Action|Adventure|Sci-Fi|IMAX</td>\n",
       "      <td>Avengers The 2012</td>\n",
       "    </tr>\n",
       "    <tr>\n",
       "      <th>9820</th>\n",
       "      <td>0.103711</td>\n",
       "      <td>0.005289</td>\n",
       "      <td>19.610199</td>\n",
       "      <td>106072</td>\n",
       "      <td>Thor: The Dark World (2013)</td>\n",
       "      <td>Action|Adventure|Fantasy|IMAX</td>\n",
       "      <td>Thor The Dark World 2013</td>\n",
       "    </tr>\n",
       "    <tr>\n",
       "      <th>10159</th>\n",
       "      <td>0.241054</td>\n",
       "      <td>0.012367</td>\n",
       "      <td>19.491770</td>\n",
       "      <td>122892</td>\n",
       "      <td>Avengers: Age of Ultron (2015)</td>\n",
       "      <td>Action|Adventure|Sci-Fi</td>\n",
       "      <td>Avengers Age of Ultron 2015</td>\n",
       "    </tr>\n",
       "    <tr>\n",
       "      <th>9658</th>\n",
       "      <td>0.216534</td>\n",
       "      <td>0.012119</td>\n",
       "      <td>17.867419</td>\n",
       "      <td>102125</td>\n",
       "      <td>Iron Man 3 (2013)</td>\n",
       "      <td>Action|Sci-Fi|Thriller|IMAX</td>\n",
       "      <td>Iron Man 3 2013</td>\n",
       "    </tr>\n",
       "    <tr>\n",
       "      <th>9052</th>\n",
       "      <td>0.215043</td>\n",
       "      <td>0.012052</td>\n",
       "      <td>17.843074</td>\n",
       "      <td>88140</td>\n",
       "      <td>Captain America: The First Avenger (2011)</td>\n",
       "      <td>Action|Adventure|Sci-Fi|Thriller|War</td>\n",
       "      <td>Captain America The First Avenger 2011</td>\n",
       "    </tr>\n",
       "    <tr>\n",
       "      <th>8957</th>\n",
       "      <td>0.175447</td>\n",
       "      <td>0.010142</td>\n",
       "      <td>17.299824</td>\n",
       "      <td>86332</td>\n",
       "      <td>Thor (2011)</td>\n",
       "      <td>Action|Adventure|Drama|Fantasy|IMAX</td>\n",
       "      <td>Thor 2011</td>\n",
       "    </tr>\n",
       "    <tr>\n",
       "      <th>9928</th>\n",
       "      <td>0.287608</td>\n",
       "      <td>0.016737</td>\n",
       "      <td>17.183667</td>\n",
       "      <td>110102</td>\n",
       "      <td>Captain America: The Winter Soldier (2014)</td>\n",
       "      <td>Action|Adventure|Sci-Fi|IMAX</td>\n",
       "      <td>Captain America The Winter Soldier 2014</td>\n",
       "    </tr>\n",
       "    <tr>\n",
       "      <th>10160</th>\n",
       "      <td>0.136017</td>\n",
       "      <td>0.008573</td>\n",
       "      <td>15.865628</td>\n",
       "      <td>122900</td>\n",
       "      <td>Ant-Man (2015)</td>\n",
       "      <td>Action|Adventure|Sci-Fi</td>\n",
       "      <td>AntMan 2015</td>\n",
       "    </tr>\n",
       "    <tr>\n",
       "      <th>8542</th>\n",
       "      <td>0.242876</td>\n",
       "      <td>0.015517</td>\n",
       "      <td>15.651921</td>\n",
       "      <td>77561</td>\n",
       "      <td>Iron Man 2 (2010)</td>\n",
       "      <td>Action|Adventure|Sci-Fi|Thriller|IMAX</td>\n",
       "      <td>Iron Man 2 2010</td>\n",
       "    </tr>\n",
       "  </tbody>\n",
       "</table>\n",
       "</div>"
      ],
      "text/plain": [
       "        similar       all      score  movieId  \\\n",
       "9121   1.000000  0.040459  24.716368    89745   \n",
       "9820   0.103711  0.005289  19.610199   106072   \n",
       "10159  0.241054  0.012367  19.491770   122892   \n",
       "9658   0.216534  0.012119  17.867419   102125   \n",
       "9052   0.215043  0.012052  17.843074    88140   \n",
       "8957   0.175447  0.010142  17.299824    86332   \n",
       "9928   0.287608  0.016737  17.183667   110102   \n",
       "10160  0.136017  0.008573  15.865628   122900   \n",
       "8542   0.242876  0.015517  15.651921    77561   \n",
       "\n",
       "                                            title  \\\n",
       "9121                         Avengers, The (2012)   \n",
       "9820                  Thor: The Dark World (2013)   \n",
       "10159              Avengers: Age of Ultron (2015)   \n",
       "9658                            Iron Man 3 (2013)   \n",
       "9052    Captain America: The First Avenger (2011)   \n",
       "8957                                  Thor (2011)   \n",
       "9928   Captain America: The Winter Soldier (2014)   \n",
       "10160                              Ant-Man (2015)   \n",
       "8542                            Iron Man 2 (2010)   \n",
       "\n",
       "                                      genres  \\\n",
       "9121            Action|Adventure|Sci-Fi|IMAX   \n",
       "9820           Action|Adventure|Fantasy|IMAX   \n",
       "10159                Action|Adventure|Sci-Fi   \n",
       "9658             Action|Sci-Fi|Thriller|IMAX   \n",
       "9052    Action|Adventure|Sci-Fi|Thriller|War   \n",
       "8957     Action|Adventure|Drama|Fantasy|IMAX   \n",
       "9928            Action|Adventure|Sci-Fi|IMAX   \n",
       "10160                Action|Adventure|Sci-Fi   \n",
       "8542   Action|Adventure|Sci-Fi|Thriller|IMAX   \n",
       "\n",
       "                                   clean_title  \n",
       "9121                         Avengers The 2012  \n",
       "9820                  Thor The Dark World 2013  \n",
       "10159              Avengers Age of Ultron 2015  \n",
       "9658                           Iron Man 3 2013  \n",
       "9052    Captain America The First Avenger 2011  \n",
       "8957                                 Thor 2011  \n",
       "9928   Captain America The Winter Soldier 2014  \n",
       "10160                              AntMan 2015  \n",
       "8542                           Iron Man 2 2010  "
      ]
     },
     "execution_count": 34,
     "metadata": {},
     "output_type": "execute_result"
    }
   ],
   "source": [
    "rec_percentages.head(10).merge(movies, left_index=True, right_on=\"movieId\")"
   ]
  },
  {
   "cell_type": "code",
   "execution_count": 35,
   "id": "b86078c7",
   "metadata": {},
   "outputs": [],
   "source": [
    "def find_similar_movies(movie_id):\n",
    "    similar_users = ratings[(ratings[\"movieId\"] == movie_id) & (ratings[\"rating\"] > 4)][\"userId\"].unique()\n",
    "    similar_user_recs = ratings[(ratings[\"userId\"].isin(similar_users)) & (ratings[\"rating\"] > 4)][\"movieId\"]\n",
    "    similar_user_recs = similar_user_recs.value_counts() / len(similar_users)\n",
    "\n",
    "    similar_user_recs = similar_user_recs[similar_user_recs > .10]\n",
    "    all_users = ratings[(ratings[\"movieId\"].isin(similar_user_recs.index)) & (ratings[\"rating\"] > 4)]\n",
    "    all_user_recs = all_users[\"movieId\"].value_counts() / len(all_users[\"userId\"].unique())\n",
    "    rec_percentages = pd.concat([similar_user_recs, all_user_recs], axis=1)\n",
    "    rec_percentages.columns = [\"similar\", \"all\"]\n",
    "    \n",
    "    rec_percentages[\"score\"] = rec_percentages[\"similar\"] / rec_percentages[\"all\"]\n",
    "    rec_percentages = rec_percentages.sort_values(\"score\", ascending=False)\n",
    "    return rec_percentages.head(10).merge(movies, left_index=True, right_on=\"movieId\")[[\"score\", \"title\", \"genres\"]]"
   ]
  },
  {
   "cell_type": "code",
   "execution_count": 36,
   "id": "67d4d5c6",
   "metadata": {},
   "outputs": [
    {
     "data": {
      "application/vnd.jupyter.widget-view+json": {
       "model_id": "2c8ae609a8a74612885959ed1a3db6db",
       "version_major": 2,
       "version_minor": 0
      },
      "text/plain": [
       "Text(value='Iron man', description='Movie Title:')"
      ]
     },
     "metadata": {},
     "output_type": "display_data"
    },
    {
     "data": {
      "application/vnd.jupyter.widget-view+json": {
       "model_id": "af52fedb46304f4a88badd3f15d3d6f5",
       "version_major": 2,
       "version_minor": 0
      },
      "text/plain": [
       "Output()"
      ]
     },
     "metadata": {},
     "output_type": "display_data"
    }
   ],
   "source": [
    "import ipywidgets as widgets\n",
    "from IPython.display import display\n",
    "\n",
    "movie_name_input = widgets.Text(\n",
    "    value='Iron man',\n",
    "    description='Movie Title:',\n",
    "    disabled=False\n",
    ")\n",
    "recommendation_list = widgets.Output()\n",
    "\n",
    "def on_type(data):\n",
    "    with recommendation_list:\n",
    "        recommendation_list.clear_output()\n",
    "        title = data[\"new\"]\n",
    "        if len(title) > 5:\n",
    "            results = search(title)\n",
    "            movie_id = results.iloc[0][\"movieId\"]\n",
    "            display(find_similar_movies(movie_id))\n",
    "\n",
    "movie_name_input.observe(on_type, names='value')\n",
    "\n",
    "display(movie_name_input, recommendation_list)"
   ]
  },
  {
   "cell_type": "code",
   "execution_count": null,
   "id": "5dd05464",
   "metadata": {},
   "outputs": [],
   "source": []
  }
 ],
 "metadata": {
  "kernelspec": {
   "display_name": "Python 3 (ipykernel)",
   "language": "python",
   "name": "python3"
  },
  "language_info": {
   "codemirror_mode": {
    "name": "ipython",
    "version": 3
   },
   "file_extension": ".py",
   "mimetype": "text/x-python",
   "name": "python",
   "nbconvert_exporter": "python",
   "pygments_lexer": "ipython3",
   "version": "3.11.3"
  }
 },
 "nbformat": 4,
 "nbformat_minor": 5
}
